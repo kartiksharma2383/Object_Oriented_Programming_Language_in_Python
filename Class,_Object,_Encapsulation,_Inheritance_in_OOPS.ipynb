{
  "nbformat": 4,
  "nbformat_minor": 0,
  "metadata": {
    "colab": {
      "provenance": [],
      "authorship_tag": "ABX9TyPf2btUCMMRejHwVPCHg2qg",
      "include_colab_link": true
    },
    "kernelspec": {
      "name": "python3",
      "display_name": "Python 3"
    },
    "language_info": {
      "name": "python"
    }
  },
  "cells": [
    {
      "cell_type": "markdown",
      "metadata": {
        "id": "view-in-github",
        "colab_type": "text"
      },
      "source": [
        "<a href=\"https://colab.research.google.com/github/kartiksharma2383/Object_Oriented_Programming_Language_in_Python/blob/main/Class%2C_Object%2C_Encapsulation%2C_Inheritance_in_OOPS.ipynb\" target=\"_parent\"><img src=\"https://colab.research.google.com/assets/colab-badge.svg\" alt=\"Open In Colab\"/></a>"
      ]
    },
    {
      "cell_type": "code",
      "execution_count": null,
      "metadata": {
        "id": "45LftcFiO_nX"
      },
      "outputs": [],
      "source": [
        "# Class(Collection of object, it is a set of attributes and methods that object have)\n",
        "class a:\n",
        "  species = \"b\"\n",
        "  def __init__(self, name, age):\n",
        "    self.name = name\n",
        "    self.age = age\n",
        "  def __str__(self):\n",
        "    return f\"{self.name} is {self.age} years old\""
      ]
    },
    {
      "cell_type": "code",
      "source": [
        "# Object(It is an instance of a Class. It represents a specific implementation of the class and holds its own data)\n",
        "class a:\n",
        "  species = \"b\"\n",
        "  def __init__(self, name, age):\n",
        "    self.name = name\n",
        "    self.age = age\n",
        "  def __str__(self):\n",
        "    return f\"{self.name} is {self.age} years old\"\n",
        "\n",
        "# Creating an object of the \"a\" class\n",
        "# Below code creates object of \"a\" class with name as \"c\" and age is 1\n",
        "obj = a(\"c\", 1)\n",
        "print(obj)"
      ],
      "metadata": {
        "colab": {
          "base_uri": "https://localhost:8080/"
        },
        "id": "kcP6A6owPQFJ",
        "outputId": "bb7c2ce5-d14c-4b76-aaca-d8a5c8d03821"
      },
      "execution_count": null,
      "outputs": [
        {
          "output_type": "stream",
          "name": "stdout",
          "text": [
            "c is 1 years old\n"
          ]
        }
      ]
    },
    {
      "cell_type": "code",
      "source": [
        "class a:\n",
        "  def __init__(self, name, age):\n",
        "    self.name = name\n",
        "    self.age = age\n",
        "a = a(\"c\", 2)\n",
        "print(a.name)"
      ],
      "metadata": {
        "colab": {
          "base_uri": "https://localhost:8080/"
        },
        "id": "AoFOhSPHPSo3",
        "outputId": "a7407ada-c069-4331-cf66-4c5b241e17c1"
      },
      "execution_count": null,
      "outputs": [
        {
          "output_type": "stream",
          "name": "stdout",
          "text": [
            "c\n"
          ]
        }
      ]
    },
    {
      "cell_type": "code",
      "source": [
        "# Class variable (Variables that are shared across all instances of a class, all objects of the class share the same value for a class variable unless explicitly overridden in an object.)\n",
        "# Instance variables (Variables that are unique to each instance (object) of a class, each object maintains its own copy of instance variables, independent of other objects.)\n",
        "class a:\n",
        "  species = \"Class variable1\" # Class variable\n",
        "  def __init__(self, name, age):\n",
        "    self.name = name\n",
        "    self.age = age\n",
        "\n",
        "# Create object\n",
        "a1 = a(\"c\", 2)\n",
        "a2 = a(\"d\", 3)\n",
        "\n",
        "# Access class and instance variables\n",
        "print(a.species) # Class variable\n",
        "print(a1.name, a1.age) # Instance variable\n",
        "print(a2.name, a2.age) # Instance variable\n",
        "\n",
        "# Modify instance variables\n",
        "a.name = \"abc\"\n",
        "print(a.name)\n",
        "\n",
        "# Modify class variable\n",
        "a.species = \"def\"\n",
        "print(a1.species)\n",
        "print(a2.species)"
      ],
      "metadata": {
        "colab": {
          "base_uri": "https://localhost:8080/"
        },
        "id": "kZDQnyRsPU9_",
        "outputId": "1944b047-6e74-451d-c0e4-cdef2047cae8"
      },
      "execution_count": null,
      "outputs": [
        {
          "output_type": "stream",
          "name": "stdout",
          "text": [
            "Class variable1\n",
            "c 2\n",
            "d 3\n",
            "abc\n",
            "def\n",
            "def\n"
          ]
        }
      ]
    },
    {
      "cell_type": "code",
      "source": [
        "# Encapsulation (It means hiding or protecting internal details of a class and only exposing what’s necessary. It helps to protect important data from being changed directly and keeps the code secure and organized.)\n",
        "# Access Specifiers (It define how class members (variables and methods) can be accessed from outside the class.)\n",
        "# Types of access specifiers : Public, protected, private\n",
        "# Public members (These r the variables or methods that can be accessed from anywhere inside the class, outside the class or from other modules. By default, all members in Python are public.)\n",
        "# Below code is an example of public member\n",
        "class Public:\n",
        "  def __init__(self):\n",
        "    self.name = \"A\" # Public attribute\n",
        "  def display_name(self):\n",
        "    print(self.name) # Public method\n",
        "obj = Public()\n",
        "obj.display_name()\n",
        "print(obj.name)"
      ],
      "metadata": {
        "colab": {
          "base_uri": "https://localhost:8080/"
        },
        "id": "Jk3KQ_yHPYbX",
        "outputId": "a410dcda-48c5-4571-df2d-94c1320d01d1"
      },
      "execution_count": null,
      "outputs": [
        {
          "output_type": "stream",
          "name": "stdout",
          "text": [
            "A\n",
            "A\n"
          ]
        }
      ]
    },
    {
      "cell_type": "code",
      "source": [
        "# Protected members (These r variables or methods that are intended to be accessed only within the class and its subclasses. They are not strictly private but should be treated as internal.)\n",
        "class Protected:\n",
        "  def __init__(self):\n",
        "    self._age = 30 # Protected attribute\n",
        "class Subclass(Protected):\n",
        "  def display_age(self):\n",
        "    print(self._age)\n",
        "obj = Subclass()\n",
        "obj.display_age()"
      ],
      "metadata": {
        "colab": {
          "base_uri": "https://localhost:8080/"
        },
        "id": "td0FfmQtPbEF",
        "outputId": "e22b570b-8fd4-4f0a-a939-f984197dd3f0"
      },
      "execution_count": null,
      "outputs": [
        {
          "output_type": "stream",
          "name": "stdout",
          "text": [
            "30\n"
          ]
        }
      ]
    },
    {
      "cell_type": "code",
      "source": [
        "# Private members (These r variables or methods that cannot be accessed directly from outside the class. They are used to restrict access and protect internal data.)\n",
        "class Private:\n",
        "  def __init__(self):\n",
        "    self.__salary = 50000 # Private attribute\n",
        "\n",
        "  def salary(self):\n",
        "    return self.__salary\n",
        "\n",
        "obj = Private()\n",
        "print(obj.salary())"
      ],
      "metadata": {
        "colab": {
          "base_uri": "https://localhost:8080/"
        },
        "id": "nwPDQaYUPeKU",
        "outputId": "30366435-19ea-432a-8f4f-fff57b6b54dc"
      },
      "execution_count": null,
      "outputs": [
        {
          "output_type": "stream",
          "name": "stdout",
          "text": [
            "50000\n"
          ]
        }
      ]
    },
    {
      "cell_type": "code",
      "source": [
        "# Use a single underscore (_) before a method name to indicate it is protected meant to be used within class or its subclasses.\n",
        "# Use a double underscore (__) to define a private method accessible only within class due to name mangling.\n",
        "# Below code demonstrates use of protected and private method\n",
        "class a:\n",
        "  def __init__(self):\n",
        "    self.b = 1000\n",
        "\n",
        "  def _show_b(self):\n",
        "    print(f\"B: {self.b}\") # Protected method\n",
        "\n",
        "  def __update_b(self, amount):\n",
        "    self.b += amount # Private method\n",
        "\n",
        "  def deposit(self, amount):\n",
        "    if amount > 0:\n",
        "      self.__update_b(amount)\n",
        "      self._show_b()\n",
        "    else:\n",
        "      print(\"invalid deposit amount\")\n",
        "account = a()\n",
        "account._show_b()\n",
        "account.deposit(500)"
      ],
      "metadata": {
        "colab": {
          "base_uri": "https://localhost:8080/"
        },
        "id": "P0g-oVa9Pgb0",
        "outputId": "62bd42c5-87fd-41e3-81bf-897ccf9b3973"
      },
      "execution_count": null,
      "outputs": [
        {
          "output_type": "stream",
          "name": "stdout",
          "text": [
            "B: 1000\n",
            "B: 1500\n"
          ]
        }
      ]
    },
    {
      "cell_type": "code",
      "source": [
        "# Getter and setter: These methods are used to access and modify private attributes safely. Getter is used to read data and setter is used to update data.\n",
        "class a:\n",
        "  def __init__(self):\n",
        "    self.__number = 10 # Private attribute\n",
        "\n",
        "  def get_number(self):\n",
        "    return self.__number  # Getter method\n",
        "\n",
        "  def set_number(self, total):\n",
        "    if total > 0:\n",
        "      self.__number = total\n",
        "    else:\n",
        "      print(\"invalid number\")\n",
        "\n",
        "A = a()\n",
        "print(A.get_number()) # Access number using getter\n",
        "A.set_number(20) # Update number using setter\n",
        "print(A.get_number())"
      ],
      "metadata": {
        "colab": {
          "base_uri": "https://localhost:8080/"
        },
        "id": "lKfhLPHsPili",
        "outputId": "663b1dda-8c58-4da3-b5a4-a827f23d3a3e"
      },
      "execution_count": null,
      "outputs": [
        {
          "output_type": "stream",
          "name": "stdout",
          "text": [
            "10\n",
            "20\n"
          ]
        }
      ]
    },
    {
      "cell_type": "code",
      "source": [
        "# Inheritance (It allows a class (called a child or derived class) to inherit attributes and methods from another class (called a parent or base class).)\n",
        "# Parent class\n",
        "class a(object):\n",
        "  def __init__(self, name, id): # Constructor\n",
        "    self.name = name\n",
        "    self.id = id\n",
        "\n",
        "  # To check if this a is an employee\n",
        "  def Display(self):\n",
        "    print(self.name, self.id)\n",
        "\n",
        "emp = a(\"B\", 100) # An object of 'a'\n",
        "emp.Display()"
      ],
      "metadata": {
        "colab": {
          "base_uri": "https://localhost:8080/"
        },
        "id": "Q9tgH5ypPlEJ",
        "outputId": "76ddb4d8-4772-49bd-f03f-4fa004debeb2"
      },
      "execution_count": null,
      "outputs": [
        {
          "output_type": "stream",
          "name": "stdout",
          "text": [
            "B 100\n"
          ]
        }
      ]
    },
    {
      "cell_type": "code",
      "source": [
        "# Child class\n",
        "class b(a):\n",
        "  def print(self):\n",
        "    print(\"emp class called\")\n",
        "emp_details = b(\"c\", 100)\n",
        "emp_details.Display()\n",
        "emp_details.print()"
      ],
      "metadata": {
        "colab": {
          "base_uri": "https://localhost:8080/"
        },
        "id": "ufV17eNcPnK_",
        "outputId": "8548f1f1-5745-4fed-d9c2-f595114a72a2"
      },
      "execution_count": null,
      "outputs": [
        {
          "output_type": "stream",
          "name": "stdout",
          "text": [
            "c 100\n",
            "emp class called\n"
          ]
        }
      ]
    },
    {
      "cell_type": "code",
      "source": [
        "# super() function: It is used to call the parent class’s methods and access its attributes\n",
        "class parent:\n",
        "  def __init__(self, name):\n",
        "    self.name = name\n",
        "  def display(self):\n",
        "    print(self.name)\n",
        "\n",
        "class child(parent):\n",
        "  def __init__(self, name, age):\n",
        "    super().__init__(name)\n",
        "    self.age = age\n",
        "  def display(self):\n",
        "    super().display() # called the parent's display method\n",
        "    print(f\"Age: {self.age}\")\n",
        "\n",
        "child_instance = child(\"A\", 30) # Instance of child\n",
        "child_instance.display()"
      ],
      "metadata": {
        "colab": {
          "base_uri": "https://localhost:8080/"
        },
        "id": "hIXfaemqPpOF",
        "outputId": "d15c2bc4-d19b-4fbd-ec9c-d68e7fa9fd6b"
      },
      "execution_count": null,
      "outputs": [
        {
          "output_type": "stream",
          "name": "stdout",
          "text": [
            "A\n",
            "Age: 30\n"
          ]
        }
      ]
    },
    {
      "cell_type": "code",
      "source": [
        "# Types of inheritance:\n",
        "# Single Inheritance: A child class inherits from one parent class.\n",
        "# Multiple Inheritance: A child class inherits from more than one parent class.\n",
        "# Multilevel Inheritance: A class is derived from a class which is also derived from another class.\n",
        "# Hierarchical Inheritance: Multiple classes inherit from a single parent class.\n",
        "# Hybrid Inheritance: A combination of more than one type of inheritance.\n",
        "\n",
        "# Single inheritance\n",
        "class person:\n",
        "  def __init__(self, name):\n",
        "    self.name = name\n",
        "\n",
        "class employee(person): # Corrected inheritance: inherit only from person\n",
        "  def __init__(self, name, salary):\n",
        "    super().__init__(name)\n",
        "    self.salary = salary\n",
        "\n",
        "emp = employee(\"A\", 10000)\n",
        "print(emp.name)\n",
        "print(emp.salary)"
      ],
      "metadata": {
        "colab": {
          "base_uri": "https://localhost:8080/"
        },
        "id": "n3GpbolDSkME",
        "outputId": "ef9c6a11-9b4a-468a-ca88-abc12c2a0de5"
      },
      "execution_count": null,
      "outputs": [
        {
          "output_type": "stream",
          "name": "stdout",
          "text": [
            "A\n",
            "10000\n"
          ]
        }
      ]
    },
    {
      "cell_type": "code",
      "source": [
        "# Multipe inheritance\n",
        "class Job:\n",
        "    def __init__(self, salary):\n",
        "        self.salary = salary\n",
        "\n",
        "class Person(employee, Job):\n",
        "    def __init__(self, name, salary):\n",
        "        employee.__init__(self, name, salary)\n",
        "        Job.__init__(self, salary)\n",
        "\n",
        "emp2 = Person(\"Alice\", 50000)\n",
        "print(emp2.name, emp2.salary)"
      ],
      "metadata": {
        "colab": {
          "base_uri": "https://localhost:8080/"
        },
        "id": "6r2WATJOU3Ik",
        "outputId": "03b72fae-07be-42ce-e30a-9f1f1af1f453"
      },
      "execution_count": null,
      "outputs": [
        {
          "output_type": "stream",
          "name": "stdout",
          "text": [
            "Alice 50000\n"
          ]
        }
      ]
    },
    {
      "cell_type": "code",
      "source": [
        "# Multilevel inheritance\n",
        "class manager(person):\n",
        "  def __init__(self, name, salary, department):\n",
        "    person.__init__(self, name, salary)\n",
        "    self.department = department\n",
        "\n",
        "m = manager(\"Bob\", 60000, \"HR\")\n",
        "print(m.name, m.salary, m.department)"
      ],
      "metadata": {
        "colab": {
          "base_uri": "https://localhost:8080/"
        },
        "id": "uz7r5rAVPxfN",
        "outputId": "fcb7d6b1-ad54-4c07-f883-b44307c555a7"
      },
      "execution_count": null,
      "outputs": [
        {
          "output_type": "stream",
          "name": "stdout",
          "text": [
            "Bob 60000 HR\n"
          ]
        }
      ]
    },
    {
      "cell_type": "code",
      "source": [
        "# Hierarchical inheritance\n",
        "class employee:\n",
        "  def __init__(self, name, salary):\n",
        "    self.name = name\n",
        "    self.salary = salary\n",
        "\n",
        "class manager(employee):\n",
        "  def __init__(self, name, salary, team_size):\n",
        "    super().__init__(name, salary)\n",
        "    self.team_size = team_size\n",
        "\n",
        "class director(employee):\n",
        "  def __init__(self, name, salary, department):\n",
        "    super().__init__(name, salary)\n",
        "    self.department = department\n",
        "\n",
        "mgr = manager(\"Charlie\", 45000, 10)\n",
        "dire = director(\"David\", 70000, \"IT\")\n",
        "\n",
        "print(f\"{mgr.name} (manager) Salary: {mgr.salary}, Team Size: {mgr.team_size}\")\n",
        "print(f\"{dire.name} (director) Salary: {dire.salary}, Department: {dire.department}\")"
      ],
      "metadata": {
        "colab": {
          "base_uri": "https://localhost:8080/"
        },
        "id": "f0I_hWFyWGHa",
        "outputId": "48473309-6d22-4476-bfc4-8dc0a9b66078"
      },
      "execution_count": null,
      "outputs": [
        {
          "output_type": "stream",
          "name": "stdout",
          "text": [
            "Charlie (manager) Salary: 45000, Team Size: 10\n",
            "David (director) Salary: 70000, Department: IT\n"
          ]
        }
      ]
    },
    {
      "cell_type": "code",
      "source": [
        "# Hybrid inheritance\n",
        "class A:\n",
        "    def show_A(self):\n",
        "        print(\"Class A method\")\n",
        "\n",
        "class B(A):  # Single Inheritance\n",
        "    def show_B(self):\n",
        "        print(\"Class B method\")\n",
        "\n",
        "class C(B):  # Multilevel Inheritance\n",
        "    def show_C(self):\n",
        "        print(\"Class C method\")\n",
        "\n",
        "class D(A):  # Hierarchical Inheritance\n",
        "    def show_D(self):\n",
        "        print(\"Class D method\")\n",
        "\n",
        "class E(C, D):  # Multiple Inheritance\n",
        "    def show_E(self):\n",
        "        print(\"Class E method\")\n",
        "\n",
        "obj.show_A()\n",
        "obj.show_B()\n",
        "obj.show_C()\n",
        "obj.show_D()\n",
        "obj.show_E()"
      ],
      "metadata": {
        "colab": {
          "base_uri": "https://localhost:8080/"
        },
        "id": "5eWg5EwCb9LV",
        "outputId": "bae6f6cc-1e9e-4efa-b3c8-ed2f329fb96b"
      },
      "execution_count": null,
      "outputs": [
        {
          "output_type": "stream",
          "name": "stdout",
          "text": [
            "Class A method\n",
            "Class B method\n",
            "Class C method\n",
            "Class D method\n",
            "Class E method\n"
          ]
        }
      ]
    }
  ]
}